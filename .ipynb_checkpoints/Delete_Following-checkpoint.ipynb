{
 "cells": [
  {
   "cell_type": "code",
   "execution_count": 1,
   "metadata": {},
   "outputs": [],
   "source": [
    "from selenium import webdriver  \n",
    "import time  "
   ]
  },
  {
   "cell_type": "code",
   "execution_count": 4,
   "metadata": {},
   "outputs": [
    {
     "name": "stdout",
     "output_type": "stream",
     "text": [
      "https://www.instagram.com/almaari_pk/\n"
     ]
    }
   ],
   "source": [
    "def Delete_Following(getusername,getpassword):\n",
    "    try:\n",
    "        driver = webdriver.Firefox()  \n",
    "        driver.get(\"https://www.instagram.com/accounts/login/\")\n",
    "        time.sleep(5)\n",
    "        name=driver.find_element_by_name('username')\n",
    "        name.send_keys(getusername)\n",
    "        time.sleep(2)\n",
    "        password=driver.find_element_by_name('password')\n",
    "        password.send_keys(getpassword)\n",
    "        time.sleep(2)\n",
    "        login=driver.find_element_by_xpath('/html/body/div[1]/section/main/div/article/div/div[1]/div/form/div/div[3]/button')\n",
    "        login.click()\n",
    "        time.sleep(5)\n",
    "        account_address=driver.find_element_by_xpath('/html/body/div[1]/section/nav/div[2]/div/div/div[3]/div/div[5]/span')\n",
    "        account_address.click()\n",
    "        time.sleep(3)\n",
    "        click_account=driver.find_element_by_xpath('/html/body/div[1]/section/nav/div[2]/div/div/div[3]/div/div[5]/div[2]/div/div[2]/div[2]/a[1]')\n",
    "        click_account.click()\n",
    "        time.sleep(5)\n",
    "        page_url=driver.current_url\n",
    "        for i in range(0,100):\n",
    "            driver.get(page_url)\n",
    "            time.sleep(4)\n",
    "            following=driver.find_element_by_xpath('/html/body/div[1]/section/main/div/header/section/ul/li[3]/a')\n",
    "            following.click()\n",
    "            time.sleep(4)\n",
    "            popup=driver.find_element_by_xpath('/html/body/div[4]/div/div/div[2]')\n",
    "            for i in range(0,10):\n",
    "                time.sleep(1)\n",
    "                driver.execute_script('arguments[0].scrollTop = arguments[0].scrollHeight',popup)\n",
    "            time.sleep(2)\n",
    "            followings_people=driver.find_elements_by_class_name('sqdOP')\n",
    "            print(len(followings_people))\n",
    "            for i in range(1,len(followings_people)):\n",
    "                time.sleep(1)\n",
    "                followings_people[i].click()\n",
    "                time.sleep(2)\n",
    "                driver.find_element_by_class_name('aOOlW').click()\n",
    "    except:\n",
    "        try:\n",
    "            time.sleep(3)\n",
    "            Report=driver.find_element_by_xpath('/html/body/div[5]/div/div/div/div[2]/button[1]')\n",
    "            Button_Name=Report.get_attribute('innerHTML')\n",
    "            if Button_Name=='Report a Problem':\n",
    "                print(\"Report a Problem\")\n",
    "        except:\n",
    "            print(\"error\")"
   ]
  },
  {
   "cell_type": "code",
   "execution_count": null,
   "metadata": {},
   "outputs": [],
   "source": []
  },
  {
   "cell_type": "code",
   "execution_count": null,
   "metadata": {},
   "outputs": [],
   "source": []
  },
  {
   "cell_type": "code",
   "execution_count": null,
   "metadata": {},
   "outputs": [],
   "source": []
  }
 ],
 "metadata": {
  "kernelspec": {
   "display_name": "Python 3",
   "language": "python",
   "name": "python3"
  },
  "language_info": {
   "codemirror_mode": {
    "name": "ipython",
    "version": 3
   },
   "file_extension": ".py",
   "mimetype": "text/x-python",
   "name": "python",
   "nbconvert_exporter": "python",
   "pygments_lexer": "ipython3",
   "version": "3.8.3"
  }
 },
 "nbformat": 4,
 "nbformat_minor": 4
}
