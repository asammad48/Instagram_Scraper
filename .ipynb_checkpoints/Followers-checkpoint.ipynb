{
 "cells": [
  {
   "cell_type": "code",
   "execution_count": null,
   "metadata": {},
   "outputs": [],
   "source": [
    "from selenium import webdriver  \n",
    "import time  \n",
    "total=0"
   ]
  },
  {
   "cell_type": "code",
   "execution_count": null,
   "metadata": {},
   "outputs": [],
   "source": [
    "def follow_gain(page_name):\n",
    "    \n",
    "    driver.get(page_name)\n",
    "    time.sleep(3)\n",
    "    try:\n",
    "        followers_list=driver.find_element_by_xpath('/html/body/div[1]/section/main/div/header/section/ul/li[2]/a')\n",
    "        followers_list.click()\n",
    "        time.sleep(2)\n",
    "        follower_pop()\n",
    "    except:\n",
    "        pass\n",
    "def follower_pop():\n",
    "    count=0\n",
    "    global total\n",
    "    follower_popup=driver.find_element_by_xpath('/html/body/div[4]/div/div/div[2]')\n",
    "    for i in range(0,10):\n",
    "        driver.execute_script('arguments[0].scrollTop = arguments[0].scrollHeight',follower_popup)\n",
    "        time.sleep(1)\n",
    "    followers_button=driver.find_elements_by_class_name('sqdOP')\n",
    "    for i in range(len(followers_button)):\n",
    "        name=followers_button[i].get_attribute('innerHTML')\n",
    "        if name=='Follow':\n",
    "            count=count+1\n",
    "            followers_button[i].click()\n",
    "            time.sleep(3)\n",
    "            total=total+1\n",
    "            if count==50:\n",
    "                break\n",
    "        print(name+\"   \"+str(total))\n",
    "    if count<50:\n",
    "        follower_pop()\n",
    "\n",
    "python_page_list=[]\n",
    "driver = webdriver.Firefox()  \n",
    "driver.get(\"https://www.instagram.com/accounts/login/\")\n",
    "time.sleep(5)\n",
    "name=driver.find_element_by_name('username')\n",
    "name.send_keys('Almaari_pk')\n",
    "time.sleep(2)\n",
    "password=driver.find_element_by_name('password')\n",
    "password.send_keys('pakistan1947')\n",
    "time.sleep(2)\n",
    "login=driver.find_element_by_xpath('/html/body/div[1]/section/main/div/article/div/div[1]/div/form/div/div[3]/button')\n",
    "login.click()\n",
    "time.sleep(8)\n",
    "search=driver.find_element_by_xpath('/html/body/div[1]/section/nav/div[2]/div/div/div[2]/input')\n",
    "search.send_keys('shoes')\n",
    "time.sleep(3)\n",
    "page_list=driver.find_elements_by_class_name('yCE8d')\n",
    "print(len(page_list))\n",
    "for i in range(len(page_list)):\n",
    "    adrs=page_list[i].get_attribute('href')\n",
    "    python_page_list.append(adrs)\n",
    "for i in range(len(python_page_list)):\n",
    "    print(python_page_list[i])\n",
    "    follow_gain(python_page_list[i])"
   ]
  },
  {
   "cell_type": "code",
   "execution_count": null,
   "metadata": {},
   "outputs": [],
   "source": []
  }
 ],
 "metadata": {
  "kernelspec": {
   "display_name": "Python 3",
   "language": "python",
   "name": "python3"
  },
  "language_info": {
   "codemirror_mode": {
    "name": "ipython",
    "version": 3
   },
   "file_extension": ".py",
   "mimetype": "text/x-python",
   "name": "python",
   "nbconvert_exporter": "python",
   "pygments_lexer": "ipython3",
   "version": "3.8.3"
  }
 },
 "nbformat": 4,
 "nbformat_minor": 4
}
